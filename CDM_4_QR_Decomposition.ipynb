{
 "cells": [
  {
   "cell_type": "code",
   "execution_count": 35,
   "metadata": {},
   "outputs": [],
   "source": [
    "import numpy as np\n",
    "from PIL import Image\n",
    "import os\n",
    "import glob\n",
    "import csv\n",
    "import time\n",
    "from sklearn.metrics import confusion_matrix, ConfusionMatrixDisplay, classification_report\n",
    "import matplotlib.pyplot as plt    \n",
    "from sklearn.metrics import accuracy_score"
   ]
  },
  {
   "cell_type": "code",
   "execution_count": 36,
   "metadata": {},
   "outputs": [],
   "source": [
    "def householder_reflection(vector):\n",
    "    norm = np.linalg.norm(vector)\n",
    "    if norm == 0:\n",
    "        return np.eye(len(vector))\n",
    "    \n",
    "    x = np.copy(vector)\n",
    "    if x[0] < 0:\n",
    "        sign = -1\n",
    "    else:\n",
    "        sign = 1\n",
    "    \n",
    "    u = x + sign * norm * np.eye(len(x))[:,0]\n",
    "    u /= np.linalg.norm(u)\n",
    "    H = np.eye(len(x)) - 2 * np.outer(u, u)\n",
    "    return H"
   ]
  },
  {
   "cell_type": "code",
   "execution_count": 37,
   "metadata": {},
   "outputs": [],
   "source": [
    "def qr_decomposition(A):\n",
    "    m, n = A.shape\n",
    "    Q = np.eye(m)  # Initialize Q as an identity matrix\n",
    "    R = A.copy()  # Copy of the input matrix A\n",
    "    \n",
    "    for j in range(n):\n",
    "        # Compute Householder transformation for the j-th column of R\n",
    "        Hj = np.eye(m)\n",
    "        Hj[j:, j:] = householder_reflection(R[j:, j])\n",
    "    \n",
    "        # Update R and Q\n",
    "        R = np.dot(Hj, R)\n",
    "        Q = np.dot(Q, Hj.T)\n",
    "\n",
    "\n",
    "    return Q, R"
   ]
  },
  {
   "cell_type": "code",
   "execution_count": 38,
   "metadata": {},
   "outputs": [
    {
     "name": "stdout",
     "output_type": "stream",
     "text": [
      "(array([[-0.5,  0.5, -0.5, -0.5],\n",
      "       [-0.5, -0.5,  0.5, -0.5],\n",
      "       [-0.5, -0.5, -0.5,  0.5],\n",
      "       [-0.5,  0.5,  0.5,  0.5]]), array([[-2.00000000e+00, -3.00000000e+00, -2.00000000e+00],\n",
      "       [ 2.77555756e-16, -5.00000000e+00,  2.00000000e+00],\n",
      "       [-3.05311332e-16, -6.35911077e-16, -4.00000000e+00],\n",
      "       [-3.33066907e-16,  1.72701359e-17,  6.92779167e-16]]))\n",
      "\n",
      "(array([[-0.5,  0.5, -0.5, -0.5],\n",
      "       [-0.5, -0.5,  0.5, -0.5],\n",
      "       [-0.5, -0.5, -0.5,  0.5],\n",
      "       [-0.5,  0.5,  0.5,  0.5]]), array([[-2., -3., -2.],\n",
      "       [ 0., -5.,  2.],\n",
      "       [ 0.,  0., -4.],\n",
      "       [ 0.,  0.,  0.]]))\n"
     ]
    }
   ],
   "source": [
    "temp_A = np.array([[1, -1, 4], [1, 4, -2], [1, 4, 2], [1, -1, 0], ])\n",
    "print(qr_decomposition(temp_A))\n",
    "print()\n",
    "print(np.linalg.qr(temp_A, mode=\"complete\"))"
   ]
  },
  {
   "cell_type": "code",
   "execution_count": 39,
   "metadata": {},
   "outputs": [],
   "source": [
    "cwd = os.getcwd()\n",
    "dimension_of_train = 100"
   ]
  },
  {
   "cell_type": "code",
   "execution_count": 40,
   "metadata": {},
   "outputs": [
    {
     "data": {
      "text/plain": [
       "(10, 784, 100)"
      ]
     },
     "execution_count": 40,
     "metadata": {},
     "output_type": "execute_result"
    }
   ],
   "source": [
    "list_matrix_train = []\n",
    "for i in range(0,10):\n",
    "    input_file = os.path.join(cwd, 'train', str(i), '*.jpg')\n",
    "    flag_first_time = True\n",
    "    train_data_number = 0\n",
    "\n",
    "    for filename in  glob.glob(input_file ):\n",
    "        train_data_number += 1\n",
    "        if (train_data_number <= dimension_of_train):\n",
    "            img = Image.open(filename)\n",
    "            column_train = np.array(img, dtype=\"float64\")\n",
    "            column_train = column_train.flatten().reshape((-1,1))\n",
    "            if (flag_first_time):\n",
    "                matrix_train = np.copy(column_train)\n",
    "                flag_first_time = False\n",
    "            else:\n",
    "                matrix_train = np.hstack((matrix_train, column_train))\n",
    "    list_matrix_train.append(matrix_train)\n",
    "\n",
    "list_matrix_train = np.array(list_matrix_train)\n",
    "list_matrix_train.shape"
   ]
  },
  {
   "cell_type": "code",
   "execution_count": 41,
   "metadata": {},
   "outputs": [
    {
     "name": "stdout",
     "output_type": "stream",
     "text": [
      "100\t100\t100\t100\t100\t100\t100\t100\t100\t100\t"
     ]
    }
   ],
   "source": [
    "for matrix_train in list_matrix_train:\n",
    "    print(np.linalg.matrix_rank(matrix_train), end=\"\\t\")"
   ]
  },
  {
   "cell_type": "code",
   "execution_count": 42,
   "metadata": {},
   "outputs": [],
   "source": [
    "input_test_file = os.path.join(cwd, 'test','test', '*.jpg')\n",
    "for filename in  glob.glob(input_test_file ):\n",
    "    img_test=Image.open(filename)\n",
    "    column_test = np.array(img_test)\n",
    "    column_test = column_test.flatten()#.reshape((-1,1))\n",
    "    break"
   ]
  },
  {
   "cell_type": "code",
   "execution_count": 43,
   "metadata": {},
   "outputs": [
    {
     "name": "stdout",
     "output_type": "stream",
     "text": [
      "Error with b2:  882.6642252545664\n",
      "Error after find X:  882.6642252545672\n",
      "Error with NumPy:  882.6642252545671\n",
      "\n",
      "\n",
      "\n",
      "\n"
     ]
    },
    {
     "name": "stderr",
     "output_type": "stream",
     "text": [
      "C:\\Users\\Hosein\\AppData\\Local\\Temp\\ipykernel_8736\\1548068888.py:16: FutureWarning: `rcond` parameter will change to the default of machine precision times ``max(M, N)`` where M and N are the input matrix dimensions.\n",
      "To use the future default and silence this warning we advise to pass `rcond=None`, to keep using the old, explicitly pass `rcond=-1`.\n",
      "  print(\"Error with NumPy: \", np.linalg.lstsq(list_matrix_train[0], column_test)[1][0] ** 0.5)\n"
     ]
    }
   ],
   "source": [
    "for matrix_train in list_matrix_train:\n",
    "    Q, R = qr_decomposition(matrix_train)\n",
    "    _, s_g= matrix_train.shape\n",
    "    # without find X \n",
    "    q = Q[:,s_g:]\n",
    "    error = np.linalg.norm(np.dot(q.T, column_test), axis=0)\n",
    "    print(\"Error with b2: \", error)\n",
    "    # Find X\n",
    "    q, r = Q[:,:s_g], R[:s_g, :]\n",
    "    p = np.dot(q.T , column_test)\n",
    "    x = np.dot(np.linalg.inv(r) , p)\n",
    "    Ax = np.dot(matrix_train , x)\n",
    "    error = np.linalg.norm(column_test - Ax)\n",
    "    print(\"Error after find X: \", error)\n",
    "    # NumPy\n",
    "    print(\"Error with NumPy: \", np.linalg.lstsq(list_matrix_train[0], column_test)[1][0] ** 0.5)\n",
    "    print(\"\\n\\n\\n\")\n",
    "    break"
   ]
  },
  {
   "cell_type": "code",
   "execution_count": 44,
   "metadata": {},
   "outputs": [
    {
     "data": {
      "text/plain": [
       "(784, 600)"
      ]
     },
     "execution_count": 44,
     "metadata": {},
     "output_type": "execute_result"
    }
   ],
   "source": [
    "input_test_file = os.path.join(cwd, 'test','test', '*.jpg')\n",
    "flag_first_time = True\n",
    "image_num = 0\n",
    "list_order_file = []\n",
    "\n",
    "for filename in  glob.glob(input_test_file ):\n",
    "    \n",
    "    number_of_file = filename.removeprefix(os.path.join(cwd, 'test','test')+'\\img_').removesuffix('.jpg')\n",
    "    list_order_file.append(int(number_of_file))\n",
    "\n",
    "    img_test=Image.open(filename)\n",
    "    column_test = np.array(img_test)\n",
    "    column_test = column_test.flatten().reshape((-1,1))\n",
    "    if (flag_first_time):\n",
    "        matrix_test = np.copy(column_test)\n",
    "        flag_first_time = False\n",
    "    else:\n",
    "        matrix_test = np.hstack((matrix_test, column_test))\n",
    "\n",
    "matrix_test.shape"
   ]
  },
  {
   "cell_type": "code",
   "execution_count": 45,
   "metadata": {},
   "outputs": [],
   "source": [
    "flag_first_time = True\n",
    "for matrix_train in list_matrix_train:\n",
    "    ### LSE\n",
    "    # q, r = np.linalg.qr(matrix_train)\n",
    "    q, r = qr_decomposition(matrix_train)\n",
    "    \n",
    "    _, s_g= matrix_train.shape\n",
    "    # Direct \n",
    "    q, r = q[:,s_g:], r[s_g:, :]\n",
    "    error = np.linalg.norm(np.dot(q.T, matrix_test), axis=0)\n",
    "    # Find X\n",
    "    # q, r = q[:,:s_g], r[:s_g, :]\n",
    "    # p = np.dot(q.T , matrix_test)\n",
    "    # x = np.dot(np.linalg.inv(r) , p)\n",
    "    # Ax = np.dot(matrix_train , x)\n",
    "    # error = np.linalg.norm(matrix_test - Ax, axis=0)\n",
    "    ### LSE\n",
    "    if (flag_first_time):\n",
    "        matrix_error = np.copy(error)\n",
    "        flag_first_time = False\n",
    "    else:\n",
    "        matrix_error = np.vstack((matrix_error, error))"
   ]
  },
  {
   "cell_type": "code",
   "execution_count": 46,
   "metadata": {},
   "outputs": [],
   "source": [
    "predict = np.argmin(matrix_error, axis=0)\n",
    "list_order_file = np.array(list_order_file)\n",
    "predict = predict[np.argsort(list_order_file)]"
   ]
  },
  {
   "cell_type": "code",
   "execution_count": 47,
   "metadata": {},
   "outputs": [],
   "source": [
    "label = []\n",
    "with open('test labels.csv') as csv_file:\n",
    "    csv_reader = csv.reader(csv_file, delimiter=',')\n",
    "    line_count = 0\n",
    "    for row in csv_reader:\n",
    "        if line_count == 0:\n",
    "            line_count += 1\n",
    "        else:\n",
    "            label.append(int(row[1]))\n",
    "            line_count += 1\n",
    "    csv_file.close()\n",
    "\n",
    "label = np.array(label)"
   ]
  },
  {
   "cell_type": "code",
   "execution_count": 48,
   "metadata": {},
   "outputs": [
    {
     "data": {
      "image/png": "[encoded data removed]",
      "text/plain": [
       "<Figure size 640x480 with 2 Axes>"
      ]
     },
     "metadata": {},
     "output_type": "display_data"
    }
   ],
   "source": [
    "mat = confusion_matrix(label, predict)\n",
    "ConfusionMatrixDisplay(mat).plot()\n",
    "plt.title(\"Confusion Matrix \"+\"\\n\"+\"train data: \" + str(dimension_of_train))\n",
    "plt.xlabel('predicted label')\n",
    "plt.ylabel('true label')\n",
    "plt.show()\n",
    "plt.close()"
   ]
  },
  {
   "cell_type": "code",
   "execution_count": 49,
   "metadata": {},
   "outputs": [
    {
     "name": "stdout",
     "output_type": "stream",
     "text": [
      "\n",
      "Classification_Report\n",
      "train data: 100\n",
      "              precision    recall  f1-score   support\n",
      "\n",
      "           0       0.95      1.00      0.98        60\n",
      "           1       0.93      0.95      0.94        60\n",
      "           2       0.95      0.88      0.91        60\n",
      "           3       0.92      0.92      0.92        60\n",
      "           4       0.95      0.92      0.93        60\n",
      "           5       0.95      0.93      0.94        60\n",
      "           6       0.95      0.98      0.97        60\n",
      "           7       0.93      0.85      0.89        60\n",
      "           8       0.85      0.85      0.85        60\n",
      "           9       0.83      0.92      0.87        60\n",
      "\n",
      "    accuracy                           0.92       600\n",
      "   macro avg       0.92      0.92      0.92       600\n",
      "weighted avg       0.92      0.92      0.92       600\n",
      "\n",
      "\n"
     ]
    }
   ],
   "source": [
    "print(\"\")\n",
    "print(\"Classification_Report\")\n",
    "print(\"train data: \" + str(dimension_of_train))\n",
    "print(classification_report(label, predict))\n",
    "print(\"\")"
   ]
  }
 ],
 "metadata": {
  "kernelspec": {
   "display_name": "Python 3",
   "language": "python",
   "name": "python3"
  },
  "language_info": {
   "codemirror_mode": {
    "name": "ipython",
    "version": 3
   },
   "file_extension": ".py",
   "mimetype": "text/x-python",
   "name": "python",
   "nbconvert_exporter": "python",
   "pygments_lexer": "ipython3",
   "version": "3.10.11"
  }
 },
 "nbformat": 4,
 "nbformat_minor": 2
}
