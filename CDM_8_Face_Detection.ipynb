{
 "cells": [
  {
   "cell_type": "code",
   "execution_count": 1,
   "metadata": {},
   "outputs": [],
   "source": [
    "import numpy as np\n",
    "from sklearn.metrics import accuracy_score"
   ]
  },
  {
   "cell_type": "code",
   "execution_count": 2,
   "metadata": {},
   "outputs": [],
   "source": [
    "def unfold (A, mode):\n",
    "    m, n, d = A.shape\n",
    "\n",
    "    if(mode == 1):\n",
    "        folds = []\n",
    "        for i in range(n):\n",
    "            folds.append(A[:, i, :])\n",
    "        # print(np.hstack(folds))\n",
    "        return(np.array(folds))\n",
    "    \n",
    "    elif(mode == 2):\n",
    "        folds = []\n",
    "        for i in range(d):\n",
    "            folds.append(A[:, :, i].T)\n",
    "        # print(np.hstack(folds))\n",
    "        return(np.array(folds))\n",
    "    \n",
    "    elif(mode == 3):\n",
    "        folds = []\n",
    "        for i in range(m):\n",
    "            folds.append(A[i, :, :].T)\n",
    "        # print(np.hstack(folds))\n",
    "        return(np.array(folds))\n"
   ]
  },
  {
   "cell_type": "code",
   "execution_count": 3,
   "metadata": {},
   "outputs": [],
   "source": [
    "def tensor_mul (A, v, mode):\n",
    "    m, n, d = A.shape\n",
    "    q,_ = v.shape\n",
    "\n",
    "    if(mode == 1):\n",
    "        folds = unfold(A, mode=1)\n",
    "        new_unfold_A = []\n",
    "        for fold in folds:\n",
    "            new_unfold_A.append(np.dot(v,fold))\n",
    "        new_A  = np.empty((q,n,d))\n",
    "        for i in range(n):\n",
    "            new_A[:, i, :] = new_unfold_A[i]\n",
    "        return(new_A)\n",
    "\n",
    "    elif(mode == 2):\n",
    "        folds = unfold(A, mode=2)\n",
    "        new_unfold_A = []\n",
    "        for fold in folds:\n",
    "            new_unfold_A.append(np.dot(v,fold))\n",
    "        new_A  = np.empty((m,q,d))\n",
    "        for i in range(d):\n",
    "            new_A[:, :, i] = new_unfold_A[i].T\n",
    "        return(new_A)\n",
    "\n",
    "    elif(mode == 3):\n",
    "        folds = unfold(A, mode=3)\n",
    "        new_unfold_A = []\n",
    "        for fold in folds:\n",
    "            new_unfold_A.append(np.dot(v,fold))\n",
    "        new_A  = np.empty((m,n,q))\n",
    "        for i in range(m):\n",
    "            new_A[i, :, :] = new_unfold_A[i].T\n",
    "        return(new_A)"
   ]
  },
  {
   "cell_type": "code",
   "execution_count": 4,
   "metadata": {},
   "outputs": [],
   "source": [
    "def HOSVD(A, is_full = False):\n",
    "    U = []\n",
    "    S = np.copy(A)\n",
    "    if (is_full):\n",
    "        u1, _, _ = np.linalg.svd(np.hstack(unfold(A, mode=1)), full_matrices=True)\n",
    "        U.append(u1)\n",
    "        u2, _, _ = np.linalg.svd(np.hstack(unfold(A, mode=2)), full_matrices=True)\n",
    "        U.append(u2)\n",
    "        u3, _, _ = np.linalg.svd(np.hstack(unfold(A, mode=3)), full_matrices=True)\n",
    "        U.append(u3)\n",
    "    else:\n",
    "        u1, _, _ = np.linalg.svd(np.hstack(unfold(A, mode=1)), full_matrices=False)\n",
    "        U.append(u1)\n",
    "        u2, _, _ = np.linalg.svd(np.hstack(unfold(A, mode=2)), full_matrices=False)\n",
    "        U.append(u2)\n",
    "        u3, _, _ = np.linalg.svd(np.hstack(unfold(A, mode=3)), full_matrices=False)\n",
    "        U.append(u3)\n",
    "    S = tensor_mul (S, u1.T, mode=1)\n",
    "    S = tensor_mul (S, u2.T, mode=2)\n",
    "    S = tensor_mul (S, u3.T, mode=3)\n",
    "    return (S, U)"
   ]
  },
  {
   "cell_type": "markdown",
   "metadata": {},
   "source": [
    "# Test"
   ]
  },
  {
   "cell_type": "code",
   "execution_count": 5,
   "metadata": {},
   "outputs": [
    {
     "data": {
      "text/plain": [
       "array([[[-1.,  0., -2.],\n",
       "        [-1., -1., -5.],\n",
       "        [ 5., -3.,  1.]],\n",
       "\n",
       "       [[ 0., -1., -3.],\n",
       "        [ 2.,  0., -7.],\n",
       "        [ 6.,  8.,  3.]],\n",
       "\n",
       "       [[-4., -5.,  0.],\n",
       "        [-7., -8., -2.],\n",
       "        [11., 16., -6.]]])"
      ]
     },
     "execution_count": 5,
     "metadata": {},
     "output_type": "execute_result"
    }
   ],
   "source": [
    "A_test = np.array([[[1, 0, 2], [1, -1, -1]], \n",
    "                 [[0, 1, 3], [2, 2, -1]], \n",
    "                 [[4, 5, 0], [1, 2, -2]], \n",
    "                ])\n",
    "v_test = np.array([[-1, 0], [-2, 1], [2, 3]])\n",
    "\n",
    "tensor_mul(A_test.transpose(1,2,0), v_test, mode=1).transpose(2,0,1)"
   ]
  },
  {
   "cell_type": "code",
   "execution_count": 6,
   "metadata": {},
   "outputs": [
    {
     "data": {
      "text/plain": [
       "array([[[  1.,  -2.,   4.],\n",
       "        [  2.,   5.,   5.]],\n",
       "\n",
       "       [[  2.,  -7.,   9.],\n",
       "        [  0.,   3.,  -1.]],\n",
       "\n",
       "       [[ -3.,   9., -13.],\n",
       "        [ -1.,  -4.,  -2.]]])"
      ]
     },
     "execution_count": 6,
     "metadata": {},
     "output_type": "execute_result"
    }
   ],
   "source": [
    "A_test = np.array([[[1, 0], [2, 3]], \n",
    "                 [[2, -1], [0, 1]], \n",
    "                 [[-3, 1], [-1, -2]], \n",
    "                ])\n",
    "v_test = np.array([[1, 0], [-2, 3], [4, -1]])\n",
    "\n",
    "tensor_mul(A_test.transpose(1,2,0), v_test, mode=2).transpose(2,0,1)"
   ]
  },
  {
   "cell_type": "code",
   "execution_count": 7,
   "metadata": {},
   "outputs": [
    {
     "data": {
      "text/plain": [
       "array([[[  2.,   3.,   1.],\n",
       "        [ -1.,   0.,  -2.]],\n",
       "\n",
       "       [[  2.,   2.,   1.],\n",
       "        [  1.,   0.,  -5.]],\n",
       "\n",
       "       [[ 12.,  21.,   6.],\n",
       "        [-12.,   0.,  -3.]]])"
      ]
     },
     "execution_count": 7,
     "metadata": {},
     "output_type": "execute_result"
    }
   ],
   "source": [
    "A_test = np.array([[[2, 3, 1], [-1, 0, -2]], \n",
    "                 [[2, 4, 1], [-3, 0, 1]], \n",
    "                ])\n",
    "v_test = np.array([[1, 0], [2, -1], [3, 3]])\n",
    "\n",
    "tensor_mul(A_test.transpose(1,2,0), v_test, mode=3).transpose(2,0,1)"
   ]
  },
  {
   "cell_type": "markdown",
   "metadata": {},
   "source": [
    "# Algorithm"
   ]
  },
  {
   "cell_type": "code",
   "execution_count": 8,
   "metadata": {},
   "outputs": [],
   "source": [
    "import os\n",
    "import glob\n",
    "from PIL import Image\n",
    "\n",
    "cwd = os.getcwd()\n",
    "input_file = os.path.join(cwd, 'YALE_faces', 'train', '*.gif')\n",
    "a_person = []\n",
    "all_person = []\n",
    "for filename in glob.glob(input_file ):\n",
    "    img=Image.open(filename)\n",
    "    np_img = np.array(img)\n",
    "    np_img = np_img.flatten('F')\n",
    "    np_img = np_img.reshape(len(np_img),1)\n",
    "    a_person.append(np_img)\n",
    "    if (len(a_person) == 10):\n",
    "        all_person.append(np.hstack(a_person))\n",
    "        a_person = []\n",
    "\n",
    "all_person = np.array(all_person)\n",
    "all_person = all_person.transpose(1, 2, 0)"
   ]
  },
  {
   "cell_type": "code",
   "execution_count": 9,
   "metadata": {},
   "outputs": [
    {
     "data": {
      "text/plain": [
       "(77760, 10, 14)"
      ]
     },
     "execution_count": 9,
     "metadata": {},
     "output_type": "execute_result"
    }
   ],
   "source": [
    "all_person.shape"
   ]
  },
  {
   "cell_type": "code",
   "execution_count": 10,
   "metadata": {},
   "outputs": [],
   "source": [
    "m, n, l = all_person.shape\n",
    "S, U = HOSVD(all_person)\n",
    "HT = U[2].T\n",
    "q, p = HT.shape"
   ]
  },
  {
   "cell_type": "markdown",
   "metadata": {},
   "source": [
    "# Slow"
   ]
  },
  {
   "cell_type": "code",
   "execution_count": 14,
   "metadata": {},
   "outputs": [
    {
     "name": "stdout",
     "output_type": "stream",
     "text": [
      "(77760, 10, 14)\n"
     ]
    }
   ],
   "source": [
    "########################################\n",
    "C = tensor_mul (S, U[0], mode=1)\n",
    "C = tensor_mul (C, U[1], mode=2)\n",
    "print(C.shape)\n",
    "########################################\n",
    "\n",
    "\n",
    "input_test_file = os.path.join(cwd, 'YALE_faces', 'test', '*.gif')\n",
    "y_true = []\n",
    "y_predict = []\n",
    "p_person = []\n",
    "\n",
    "\n",
    "for filename in  glob.glob(input_test_file ):\n",
    "    target = filename.removeprefix(os.path.join(cwd, 'YALE_faces', 'test')).removesuffix('.gif')\n",
    "    if (target[-9:] == \"not_exist\"):\n",
    "        y_true.append(1)\n",
    "    else:\n",
    "        y_true.append(0)\n",
    "\n",
    "    img_test=Image.open(filename)\n",
    "    np_img_test = np.array(img_test)\n",
    "    np_img_test = np_img_test.flatten('F')\n",
    "    np_img_test = np_img_test.reshape(-1, 1)\n",
    "\n",
    "    dict_aes = {}\n",
    "    dict_errors = {}\n",
    "    for i in range(n):\n",
    "        ae, error, _, _= np.linalg.lstsq(C[:, i, :], np_img_test, rcond=None)\n",
    "        dict_aes[i] = ae\n",
    "        dict_errors[i] = error[0]\n",
    "\n",
    "    for mode in dict_errors:\n",
    "        if (dict_errors[mode] == min(dict_errors.values())):\n",
    "            check = mode\n",
    "            break\n",
    "\n",
    "    flag_not_exist = True\n",
    "    for i in range(p):\n",
    "        temp = HT[:, i].reshape(-1,1)\n",
    "        if (np.linalg.norm(dict_aes[check] - temp) < 0.50):\n",
    "            if (flag_not_exist):\n",
    "                y_predict.append(0)\n",
    "                flag_not_exist = False\n",
    "                p_person.append((i, target))\n",
    "            \n",
    "            p_person.append((i, target))\n",
    "\n",
    "    if (flag_not_exist):\n",
    "        y_predict.append(1)"
   ]
  },
  {
   "cell_type": "code",
   "execution_count": 15,
   "metadata": {},
   "outputs": [
    {
     "name": "stdout",
     "output_type": "stream",
     "text": [
      "[0, 0, 0, 0, 0, 0, 0, 0, 0, 0, 0, 0, 0, 0, 1, 1, 1, 1, 1, 1, 1, 1, 1, 1, 1]\n",
      "[0, 1, 0, 0, 0, 0, 1, 0, 1, 1, 0, 1, 0, 0, 1, 1, 1, 1, 1, 1, 1, 1, 1, 1, 1]\n",
      "accuracy_score:  0.8\n"
     ]
    }
   ],
   "source": [
    "print(y_true)\n",
    "print(y_predict)\n",
    "print(\"accuracy_score: \", accuracy_score(y_true, y_predict))"
   ]
  },
  {
   "cell_type": "code",
   "execution_count": 16,
   "metadata": {},
   "outputs": [],
   "source": [
    "########################################\n",
    "C = tensor_mul (S, U[0], mode=1)\n",
    "C = tensor_mul (C, U[1], mode=2)\n",
    "########################################\n",
    "\n",
    "input_test_file = os.path.join(cwd, 'YALE_faces', 'test', '*.gif')\n",
    "y_true = []\n",
    "y_predict = []\n",
    "p_person = []\n",
    "\n",
    "for filename in  glob.glob(input_test_file ):\n",
    "    target = filename.removeprefix(os.path.join(cwd, 'YALE_faces', 'test')).removesuffix('.gif')\n",
    "    if (target[-9:] == \"not_exist\"):\n",
    "        y_true.append(1)\n",
    "    else:\n",
    "        y_true.append(0)\n",
    "\n",
    "    img_test=Image.open(filename)\n",
    "    np_img_test = np.array(img_test)\n",
    "    np_img_test = np_img_test.flatten('F')\n",
    "    np_img_test = np_img_test.reshape(-1,1)\n",
    "\n",
    "    flag_not_exist = True\n",
    "    for i in range(n):\n",
    "        ae, _, _, _= np.linalg.lstsq(C[:, i, :], np_img_test, rcond=None)\n",
    "        for j in range(p):\n",
    "            temp = HT[:, j].reshape(-1,1)\n",
    "            if (np.linalg.norm(ae - temp) < 0.50):\n",
    "                if (flag_not_exist):\n",
    "                    y_predict.append(0)\n",
    "                    flag_not_exist = False\n",
    "                    p_person.append((j, target))\n",
    "                p_person.append((j, target))\n",
    "    if (flag_not_exist):\n",
    "        y_predict.append(1)"
   ]
  },
  {
   "cell_type": "code",
   "execution_count": 17,
   "metadata": {},
   "outputs": [
    {
     "name": "stdout",
     "output_type": "stream",
     "text": [
      "[0, 0, 0, 0, 0, 0, 0, 0, 0, 0, 0, 0, 0, 0, 1, 1, 1, 1, 1, 1, 1, 1, 1, 1, 1]\n",
      "[0, 1, 0, 0, 0, 0, 1, 0, 1, 1, 0, 0, 0, 0, 1, 1, 1, 1, 1, 1, 1, 1, 1, 1, 1]\n",
      "accuracy_score:  0.84\n"
     ]
    }
   ],
   "source": [
    "print(y_true)\n",
    "print(y_predict)\n",
    "print(\"accuracy_score: \", accuracy_score(y_true, y_predict))"
   ]
  },
  {
   "cell_type": "markdown",
   "metadata": {},
   "source": [
    "# Fast"
   ]
  },
  {
   "cell_type": "code",
   "execution_count": 18,
   "metadata": {},
   "outputs": [],
   "source": [
    "########################################\n",
    "Ft = U[0].T \n",
    "B = tensor_mul (S, U[1], mode=2)\n",
    "########################################\n",
    "\n",
    "\n",
    "input_test_file = os.path.join(cwd, 'YALE_faces', 'test', '*.gif')\n",
    "y_true = []\n",
    "y_predict = []\n",
    "p_person = []\n",
    "\n",
    "for filename in  glob.glob(input_test_file ):\n",
    "    target = filename.removeprefix(os.path.join(cwd, 'YALE_faces', 'test')).removesuffix('.gif')\n",
    "    if (target[-9:] == \"not_exist\"):\n",
    "        y_true.append(1)\n",
    "    else:\n",
    "        y_true.append(0)\n",
    "\n",
    "    img_test=Image.open(filename)\n",
    "    np_img_test = np.array(img_test)\n",
    "    np_img_test = np_img_test.flatten('F')\n",
    "    np_img_test = np_img_test.reshape(-1,1)\n",
    "\n",
    "    dict_aes = {}\n",
    "    dict_errors = {}\n",
    "    for i in range(n):\n",
    "        ae, error, _, _= np.linalg.lstsq(B[:, i, :], Ft @ np_img_test, rcond=None)\n",
    "        dict_aes[i] = ae\n",
    "        dict_errors[i] = error[0]\n",
    "\n",
    "    for mode in dict_errors:\n",
    "        if (dict_errors[mode] == min(dict_errors.values())):\n",
    "            check = mode\n",
    "            break\n",
    "\n",
    "    flag_not_exist = True\n",
    "    for i in range(p):\n",
    "        temp = HT[:, i].reshape(-1,1)\n",
    "        if (np.linalg.norm(dict_aes[check] - temp) < 0.50):\n",
    "            if (flag_not_exist):\n",
    "                y_predict.append(0)\n",
    "                flag_not_exist = False\n",
    "                p_person.append((i, target))\n",
    "            \n",
    "            p_person.append((i, target))\n",
    "\n",
    "    if (flag_not_exist):\n",
    "        y_predict.append(1)"
   ]
  },
  {
   "cell_type": "code",
   "execution_count": 19,
   "metadata": {},
   "outputs": [
    {
     "name": "stdout",
     "output_type": "stream",
     "text": [
      "[0, 0, 0, 0, 0, 0, 0, 0, 0, 0, 0, 0, 0, 0, 1, 1, 1, 1, 1, 1, 1, 1, 1, 1, 1]\n",
      "[0, 1, 0, 0, 0, 0, 1, 0, 1, 1, 0, 1, 0, 0, 1, 1, 1, 1, 1, 1, 1, 1, 1, 1, 1]\n",
      "accuracy_score:  0.8\n"
     ]
    }
   ],
   "source": [
    "from sklearn.metrics import accuracy_score\n",
    "\n",
    "print(y_true)\n",
    "print(y_predict)\n",
    "print(\"accuracy_score: \", accuracy_score(y_true, y_predict))"
   ]
  },
  {
   "cell_type": "code",
   "execution_count": 20,
   "metadata": {},
   "outputs": [],
   "source": [
    "########################################\n",
    "Ft = U[0].T \n",
    "B = tensor_mul (S, U[1], mode=2)\n",
    "########################################\n",
    "\n",
    "\n",
    "input_test_file = os.path.join(cwd, 'YALE_faces', 'test', '*.gif')\n",
    "y_true = []\n",
    "y_predict = []\n",
    "p_person = []\n",
    "\n",
    "for filename in  glob.glob(input_test_file ):\n",
    "    target = filename.removeprefix(os.path.join(cwd, 'YALE_faces', 'test')).removesuffix('.gif')\n",
    "    if (target[-9:] == \"not_exist\"):\n",
    "        y_true.append(1)\n",
    "    else:\n",
    "        y_true.append(0)\n",
    "\n",
    "    img_test=Image.open(filename)\n",
    "    np_img_test = np.array(img_test)\n",
    "    np_img_test = np_img_test.flatten('F')\n",
    "    np_img_test = np_img_test.reshape(-1,1)\n",
    "\n",
    "    flag_not_exist = True\n",
    "    for i in range(n):\n",
    "        ae, _, _, _= np.linalg.lstsq(B[:, i, :], Ft @ np_img_test, rcond=None)\n",
    "        for j in range(p):\n",
    "            temp = HT[:, j].reshape(-1,1)\n",
    "            if (np.linalg.norm(ae - temp) < 0.50):\n",
    "                if (flag_not_exist):\n",
    "                    y_predict.append(0)\n",
    "                    flag_not_exist = False\n",
    "                    p_person.append((j, target))\n",
    "                p_person.append((j, target))\n",
    "    if (flag_not_exist):\n",
    "        y_predict.append(1)\n"
   ]
  },
  {
   "cell_type": "code",
   "execution_count": 21,
   "metadata": {},
   "outputs": [
    {
     "name": "stdout",
     "output_type": "stream",
     "text": [
      "[0, 0, 0, 0, 0, 0, 0, 0, 0, 0, 0, 0, 0, 0, 1, 1, 1, 1, 1, 1, 1, 1, 1, 1, 1]\n",
      "[0, 1, 0, 0, 0, 0, 1, 0, 1, 1, 0, 0, 0, 0, 1, 1, 1, 1, 1, 1, 1, 1, 1, 1, 1]\n",
      "accuracy_score:  0.84\n"
     ]
    }
   ],
   "source": [
    "print(y_true)\n",
    "print(y_predict)\n",
    "print(\"accuracy_score: \", accuracy_score(y_true, y_predict))"
   ]
  }
 ],
 "metadata": {
  "kernelspec": {
   "display_name": "Python 3",
   "language": "python",
   "name": "python3"
  },
  "language_info": {
   "codemirror_mode": {
    "name": "ipython",
    "version": 3
   },
   "file_extension": ".py",
   "mimetype": "text/x-python",
   "name": "python",
   "nbconvert_exporter": "python",
   "pygments_lexer": "ipython3",
   "version": "3.10.11"
  }
 },
 "nbformat": 4,
 "nbformat_minor": 2
}
