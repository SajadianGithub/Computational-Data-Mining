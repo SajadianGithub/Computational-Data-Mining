{
 "cells": [
  {
   "cell_type": "code",
   "execution_count": null,
   "metadata": {},
   "outputs": [],
   "source": [
    "from PIL import Image\n",
    "import numpy as np\n",
    "import os\n",
    "import matplotlib.pyplot as plt"
   ]
  },
  {
   "cell_type": "code",
   "execution_count": null,
   "metadata": {},
   "outputs": [],
   "source": [
    "def make_it_noisy (img_data) :\n",
    "    s = np.random.normal(0, 255, img_data.shape)\n",
    "    out = img_data + s\n",
    "    out[out>255] = 255\n",
    "    out[out<0] = 0\n",
    "\n",
    "    return(out)"
   ]
  },
  {
   "cell_type": "code",
   "execution_count": null,
   "metadata": {},
   "outputs": [],
   "source": [
    "input_file = \"pic5.jpeg\" \n",
    "img = Image.open(input_file) # Can be many different formats.\n",
    "pix = img.load()\n",
    "red  = [ []   for i in range(img.size[0]) ]\n",
    "green = [ []   for i in range(img.size[0]) ]\n",
    "blue = [ []   for i in range(img.size[0]) ]\n",
    "for i in range (0,img.size[0] ):\n",
    "    for j in range (0,img.size[1]):\n",
    "        red[i].append(float(pix[i,j][0]))\n",
    "        green[i].append(float(pix[i,j][1]))\n",
    "        blue[i].append(float(pix[i,j][2]))"
   ]
  },
  {
   "cell_type": "code",
   "execution_count": null,
   "metadata": {},
   "outputs": [],
   "source": [
    "datar = np.asarray(red)\n",
    "datag = np.asarray(green)\n",
    "datab = np.asarray(blue)"
   ]
  },
  {
   "cell_type": "code",
   "execution_count": null,
   "metadata": {},
   "outputs": [],
   "source": [
    "noisy_datar = make_it_noisy(datar)\n",
    "noisy_datag = make_it_noisy(datag)\n",
    "noisy_datab = make_it_noisy(datab)"
   ]
  },
  {
   "cell_type": "code",
   "execution_count": null,
   "metadata": {},
   "outputs": [],
   "source": [
    "mimage = (np.dstack((noisy_datar.T, noisy_datag.T, noisy_datab.T))) .astype(np.uint8)\n",
    "new_img_1 = Image.fromarray(mimage)\n",
    "new_img_1.show()\n",
    "new_img_1.save(\"noisy.jpg\")"
   ]
  },
  {
   "cell_type": "code",
   "execution_count": null,
   "metadata": {},
   "outputs": [],
   "source": [
    "ur, sr, vtr = np.linalg.svd(noisy_datar)\n",
    "ug, sg, vtg = np.linalg.svd(noisy_datag)\n",
    "ub, sb, vtb = np.linalg.svd(noisy_datab)"
   ]
  },
  {
   "cell_type": "code",
   "execution_count": null,
   "metadata": {},
   "outputs": [],
   "source": [
    "plt.plot(np.asarray(range(1,len(sr)+1)), sr, '.')\n",
    "plt.show()\n",
    "plt.plot(np.asarray(range(1,len(sg)+1)), sg, '.')\n",
    "plt.show()\n",
    "plt.plot(np.asarray(range(1,len(sb)+1)), sb, '.')\n",
    "plt.show()"
   ]
  },
  {
   "cell_type": "code",
   "execution_count": null,
   "metadata": {},
   "outputs": [],
   "source": [
    "degree = 150"
   ]
  },
  {
   "cell_type": "code",
   "execution_count": null,
   "metadata": {},
   "outputs": [],
   "source": [
    "almost_utr = ur[:,:degree]\n",
    "almost_utg = ug[:,:degree]\n",
    "almost_utb = ub[:,:degree]"
   ]
  },
  {
   "cell_type": "code",
   "execution_count": null,
   "metadata": {},
   "outputs": [],
   "source": [
    "sr = np.diag(sr[:degree])\n",
    "sg = np.diag(sg[:degree])\n",
    "sb = np.diag(sb[:degree])"
   ]
  },
  {
   "cell_type": "code",
   "execution_count": null,
   "metadata": {},
   "outputs": [],
   "source": [
    "almost_vtr = vtr[0:degree]\n",
    "almost_vtg = vtg[0:degree]\n",
    "almost_vtb = vtb[0:degree]"
   ]
  },
  {
   "cell_type": "code",
   "execution_count": null,
   "metadata": {},
   "outputs": [],
   "source": [
    "new_image_matrixr = np.dot(np.dot(almost_utr,sr),almost_vtr)\n",
    "new_image_matrixg = np.dot(np.dot(almost_utg,sg),almost_vtg)\n",
    "new_image_matrixb = np.dot(np.dot(almost_utb,sb),almost_vtb)"
   ]
  },
  {
   "cell_type": "code",
   "execution_count": null,
   "metadata": {},
   "outputs": [],
   "source": [
    "new_image_matrixr[new_image_matrixr>255] = 255\n",
    "new_image_matrixr[new_image_matrixr<0] = 0\n",
    "new_image_matrixg[new_image_matrixg>255] = 255\n",
    "new_image_matrixg[new_image_matrixg<0] = 0\n",
    "new_image_matrixb[new_image_matrixb>255] = 255\n",
    "new_image_matrixb[new_image_matrixb<0] = 0"
   ]
  },
  {
   "cell_type": "code",
   "execution_count": null,
   "metadata": {},
   "outputs": [],
   "source": [
    "mimage = (np.dstack((new_image_matrixr.T, new_image_matrixg.T, new_image_matrixb.T))) .astype(np.uint8)\n",
    "new_img_1 = Image.fromarray(mimage)\n",
    "new_img_1.show()\n",
    "new_img_1.save(\"denoised_k_\" + str(degree) + \".jpg\")"
   ]
  }
 ],
 "metadata": {
  "language_info": {
   "name": "python"
  }
 },
 "nbformat": 4,
 "nbformat_minor": 2
}
