{
 "cells": [
  {
   "cell_type": "code",
   "execution_count": 1,
   "metadata": {},
   "outputs": [],
   "source": [
    "import pandas as pd\n",
    "import numpy as np"
   ]
  },
  {
   "cell_type": "code",
   "execution_count": 2,
   "metadata": {},
   "outputs": [],
   "source": [
    "class Graph:\n",
    "    \n",
    "    def __init__(self, nodes):\n",
    "        self.graph = {}\n",
    "        self.all_nodes = nodes\n",
    "        \n",
    "        for node in nodes:\n",
    "            self.graph[node]=[]\n",
    "    \n",
    "    def add_edge (self, start_node, end_node):\n",
    "        self.graph[start_node].append(end_node)\n",
    "    \n",
    "    def make_Q_matrix (self):\n",
    "        Q = {}\n",
    "        for node_i in self.all_nodes:\n",
    "            Q[node_i] = {}\n",
    "            for node_j in self.all_nodes:\n",
    "                Q[node_i][node_j] = 0\n",
    "        \n",
    "        for node in self.all_nodes:\n",
    "            for item in self.graph[node]:\n",
    "                Q[node][item] += (1/(len(self.graph[node]))) #THIS WAS MY MISTAKE\n",
    "        return(Q)\n",
    "    "
   ]
  },
  {
   "cell_type": "code",
   "execution_count": 3,
   "metadata": {},
   "outputs": [],
   "source": [
    "df = pd.read_csv('sklearn-anatomy.csv')"
   ]
  },
  {
   "cell_type": "code",
   "execution_count": 4,
   "metadata": {},
   "outputs": [
    {
     "name": "stdout",
     "output_type": "stream",
     "text": [
      "6026\n"
     ]
    }
   ],
   "source": [
    "some_nodes = np.asarray(df['page_url'])\n",
    "some_nodes = np.unique(some_nodes)\n",
    "\n",
    "other_nodes = np.asarray(df['link_url'])\n",
    "other_nodes = np.unique(other_nodes)\n",
    "\n",
    "all_nodes  = np.hstack((some_nodes, other_nodes))\n",
    "all_nodes = np.unique(all_nodes)\n",
    "\n",
    "print(len(all_nodes))"
   ]
  },
  {
   "cell_type": "code",
   "execution_count": 5,
   "metadata": {},
   "outputs": [],
   "source": [
    "graph = Graph(all_nodes)\n",
    "for index, row in df.iterrows():\n",
    "    graph.add_edge(row['page_url'], row['link_url'])\n"
   ]
  },
  {
   "cell_type": "code",
   "execution_count": 6,
   "metadata": {},
   "outputs": [],
   "source": [
    "tabale = graph.make_Q_matrix()\n",
    "Q = pd.DataFrame(tabale)\n",
    "Q = np.asarray(Q)"
   ]
  },
  {
   "cell_type": "code",
   "execution_count": 8,
   "metadata": {},
   "outputs": [],
   "source": [
    "Q = np.array([[0, 1/3, 0, 1/6, 0, 0], \n",
    "              [1/3, 0, 0, 1/6, 0, 0], \n",
    "              [0, 1/3, 0, 1/6, 1/2, 1], \n",
    "              [1/3, 0, 0, 1/6, 0, 0], \n",
    "              [1/3, 1/3, 0, 1/6, 0, 0], \n",
    "              [0, 0, 1, 1/6, 1/2, 0], \n",
    "              ])"
   ]
  },
  {
   "cell_type": "code",
   "execution_count": 9,
   "metadata": {},
   "outputs": [],
   "source": [
    "n,_ = Q.shape\n",
    "\n",
    "P = np.zeros((n, n))\n",
    "for i in range(n):\n",
    "    if sum (Q[:,i]) == 0 :\n",
    "        for j in range (n):\n",
    "            P[j][i] = 1/n\n",
    "    else:\n",
    "        for j in range (n):\n",
    "            P[j][i] = Q[j][i]     \n",
    "\n",
    "A = 0.6*P + 0.4*(1/n)*np.ones((n, n))\n",
    "# A = np.copy(P)"
   ]
  },
  {
   "cell_type": "code",
   "execution_count": 10,
   "metadata": {},
   "outputs": [
    {
     "name": "stdout",
     "output_type": "stream",
     "text": [
      "iteration that we did for algorithm:  66\n",
      "output of algorithm: \n",
      "[[0.0952381 ]\n",
      " [0.0952381 ]\n",
      " [0.30595238]\n",
      " [0.0952381 ]\n",
      " [0.11428571]\n",
      " [0.29404762]]\n",
      "6\n"
     ]
    }
   ],
   "source": [
    "r0 = np.ones((n, 1)) * (1/n)\n",
    "q = np.dot(A, r0)\n",
    "r = q * (1/np.linalg.norm(q , ord=1))\n",
    "\n",
    "itrr = 1\n",
    "while (np.linalg.norm( (r-r0) , ord=1) > 1.00000000e-16): \n",
    "    itrr += 1\n",
    "    r0 = r\n",
    "    q = np.dot(A, r)\n",
    "    r = q * (1/np.linalg.norm(q , ord=1))\n",
    "\n",
    "\n",
    "print(\"iteration that we did for algorithm: \", itrr)\n",
    "print(\"output of algorithm: \")\n",
    "print(r)\n",
    "print(len(r))"
   ]
  },
  {
   "cell_type": "code",
   "execution_count": 9,
   "metadata": {},
   "outputs": [],
   "source": [
    "dict_scores = {}\n",
    "r_index = 0\n",
    "for node in all_nodes:\n",
    "    dict_scores[node] = r[r_index][0]\n",
    "    r_index += 1"
   ]
  },
  {
   "cell_type": "code",
   "execution_count": 10,
   "metadata": {},
   "outputs": [
    {
     "name": "stdout",
     "output_type": "stream",
     "text": [
      "https://scikit-learn.org/stable/glossary.html has the most rank with 0.0068325075352989335 score\n",
      "https://scikit-learn.org/stable/index.html has the lowest rank with 0.00014355022367849594 score\n"
     ]
    }
   ],
   "source": [
    "maxx = np.argsort(r,axis=None)[-1]\n",
    "minn = np.argsort(r,axis=None)[0]\n",
    "\n",
    "first_rank = all_nodes[maxx]\n",
    "score_of_first_rank = r[maxx][0]\n",
    "last_rank = all_nodes[minn]\n",
    "score_of_last_rank = r[minn][0]\n",
    "\n",
    "print(first_rank, 'has the most rank with', score_of_first_rank, 'score')\n",
    "print(last_rank, 'has the lowest rank with', score_of_last_rank, 'score')"
   ]
  },
  {
   "cell_type": "code",
   "execution_count": 11,
   "metadata": {},
   "outputs": [
    {
     "name": "stdout",
     "output_type": "stream",
     "text": [
      "0.0068325075352989335\n",
      "0.00014355022367849594\n"
     ]
    }
   ],
   "source": [
    "print(dict_scores['https://scikit-learn.org/stable/glossary.html'])\n",
    "print(dict_scores['https://scikit-learn.org/stable/index.html'])"
   ]
  }
 ],
 "metadata": {
  "kernelspec": {
   "display_name": "Python 3",
   "language": "python",
   "name": "python3"
  },
  "language_info": {
   "codemirror_mode": {
    "name": "ipython",
    "version": 3
   },
   "file_extension": ".py",
   "mimetype": "text/x-python",
   "name": "python",
   "nbconvert_exporter": "python",
   "pygments_lexer": "ipython3",
   "version": "3.10.11"
  },
  "orig_nbformat": 4,
  "vscode": {
   "interpreter": {
    "hash": "2a7764e5d00a7218a57bbd60a655505fc2342e727bda0f027b1e5f6d4545df63"
   }
  }
 },
 "nbformat": 4,
 "nbformat_minor": 2
}
